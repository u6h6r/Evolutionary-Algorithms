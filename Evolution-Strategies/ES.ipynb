{
 "cells": [
  {
   "cell_type": "code",
   "execution_count": 1,
   "metadata": {},
   "outputs": [],
   "source": [
    "import numpy as np\n",
    "import matplotlib.pyplot as plt\n",
    "from copy import copy"
   ]
  },
  {
   "cell_type": "code",
   "execution_count": 22,
   "metadata": {},
   "outputs": [],
   "source": [
    "# ch_data = np.loadtxt(\"/Users/Filip/Desktop/DATA_SCIENCE/GIT-repos/Evolutionary-Algorithms/Evolution-Strategies/model3.txt\",usecols=(0, 1), skiprows=1)\n",
    "\n",
    "# x = ch_data[:,0]\n",
    "# o = ch_data[:,1]\n"
   ]
  },
  {
   "cell_type": "code",
   "execution_count": 2,
   "metadata": {},
   "outputs": [],
   "source": [
    "x = np.array([\n",
    "       -4.9, -4.8, -4.7, -4.6, -4.5, -4.4, -4.3, -4.2, -4.1, -4. , -3.9,\n",
    "       -3.8, -3.7, -3.6, -3.5, -3.4, -3.3, -3.2, -3.1, -3. , -2.9, -2.8,\n",
    "       -2.7, -2.6, -2.5, -2.4, -2.3, -2.2, -2.1, -2. , -1.9, -1.8, -1.7,\n",
    "       -1.6, -1.5, -1.4, -1.3, -1.2, -1.1, -1. , -0.9, -0.8, -0.7, -0.6,\n",
    "       -0.5, -0.4, -0.3, -0.2, -0.1,  0. ,  0.1,  0.2,  0.3,  0.4,  0.5,\n",
    "        0.6,  0.7,  0.8,  0.9,  1. ,  1.1,  1.2,  1.3,  1.4,  1.5,  1.6,\n",
    "        1.7,  1.8,  1.9,  2. ,  2.1,  2.2,  2.3,  2.4,  2.5,  2.6,  2.7,\n",
    "        2.8,  2.9,  3. ,  3.1,  3.2,  3.3,  3.4,  3.5,  3.6,  3.7,  3.8,\n",
    "        3.9,  4. ,  4.1,  4.2,  4.3,  4.4,  4.5,  4.6,  4.7,  4.8,  4.9,\n",
    "        5. \n",
    "    ])"
   ]
  },
  {
   "cell_type": "code",
   "execution_count": 3,
   "metadata": {},
   "outputs": [],
   "source": [
    "o = np.array(\n",
    "    [140.82144   , 136.80255   , 130.16584   , 123.09854   ,\n",
    "       114.39532   , 104.59727   ,  96.025621  ,  90.400328  ,\n",
    "        84.738771  ,  81.702265  ,  79.660375  ,  78.901891  ,\n",
    "        78.319333  ,  77.792199  ,  76.203148  ,  73.302882  ,\n",
    "        68.357995  ,  60.673796  ,  53.659575  ,  45.933771  ,\n",
    "        40.527897  ,  35.071689  ,  32.667226  ,  30.980565  ,\n",
    "        31.142812  ,  31.947988  ,  32.60861   ,  34.54083   ,\n",
    "        33.087014  ,  31.259531  ,  26.126994  ,  21.595553  ,\n",
    "        15.708787  ,   9.6828575 ,   6.3519347 ,   1.7911671 ,\n",
    "         1.7895385 ,   2.1555959 ,   3.7013691 ,   5.9731705 ,\n",
    "         9.7150275 ,  10.00916   ,  11.432421  ,   9.9223725 ,\n",
    "         7.4511493 ,   3.0999315 ,  -1.7130687 ,  -4.954152  ,\n",
    "        -8.1451161 ,  -7.9157024 ,  -7.7265311 ,  -5.4184115 ,\n",
    "        -1.0247075 ,   3.1055918 ,   6.4619733 ,  10.332118  ,\n",
    "        12.17703   ,  11.234617  ,   9.9610569 ,   6.4187102 ,\n",
    "         3.229897  ,   2.3680728 ,   0.88608265,   2.7783012 ,\n",
    "         5.3082157 ,   9.9966809 ,  15.789251  ,  20.939401  ,\n",
    "        26.937442  ,  31.721399  ,  33.030669  ,  33.657274  ,\n",
    "        33.010668  ,  31.599644  ,  29.644646  ,  30.833292  ,\n",
    "        32.41725   ,  35.2346    ,  40.404607  ,  45.742281  ,\n",
    "        53.113719  ,  61.332217  ,  66.598888  ,  73.333123  ,\n",
    "        76.564083  ,  78.123728  ,  78.311912  ,  79.310875  ,\n",
    "        79.77859   ,  81.440103  ,  84.696972  ,  89.857463  ,\n",
    "        97.291561  , 105.03889   , 114.43444   , 123.03707   ,\n",
    "       130.96645   , 136.87229   , 142.06587   , 144.23329   ]\n",
    ")"
   ]
  },
  {
   "cell_type": "code",
   "execution_count": 4,
   "metadata": {},
   "outputs": [
    {
     "output_type": "display_data",
     "data": {
      "image/png": "[encoded data removed]",
      "text/plain": "<Figure size 432x288 with 1 Axes>",
      "image/svg+xml": "<?xml version=\"1.0\" encoding=\"utf-8\" standalone=\"no\"?>\n<!DOCTYPE svg PUBLIC \"-//W3C//DTD SVG 1.1//EN\"\n  \"http://www.w3.org/Graphics/SVG/1.1/DTD/svg11.dtd\">\n<!-- Created with matplotlib (https://matplotlib.org/) -->\n<svg height=\"252.018125pt\" version=\"1.1\" viewBox=\"0 0 378.7875 252.018125\" width=\"378.7875pt\" xmlns=\"http://www.w3.org/2000/svg\" xmlns:xlink=\"http://www.w3.org/1999/xlink\">\n <defs>\n  <style type=\"text/css\">\n*{stroke-linecap:butt;stroke-linejoin:round;}\n  </style>\n </defs>\n <g id=\"figure_1\">\n  <g id=\"patch_1\">\n   <path d=\"M 0 252.018125 \nL 378.7875 252.018125 \nL 378.7875 0 \nL 0 0 \nz\n\" style=\"fill:none;\"/>\n  </g>\n  <g id=\"axes_1\">\n   <g id=\"patch_2\">\n    <path d=\"M 33.2875 228.14 \nL 368.0875 228.14 \nL 368.0875 10.7 \nL 33.2875 10.7 \nz\n\" style=\"fill:#ffffff;\"/>\n   </g>\n   <g id=\"matplotlib.axis_1\">\n    <g id=\"xtick_1\">\n     <g id=\"line2d_1\">\n      <defs>\n       <path d=\"M 0 0 \nL 0 3.5 \n\" id=\"m9c44d8ccd9\" style=\"stroke:#000000;stroke-width:0.8;\"/>\n      </defs>\n      <g>\n       <use style=\"stroke:#000000;stroke-width:0.8;\" x=\"76.175103\" xlink:href=\"#m9c44d8ccd9\" y=\"228.14\"/>\n      </g>\n     </g>\n     <g id=\"text_1\">\n      <!-- −4 -->\n      <defs>\n       <path d=\"M 10.59375 35.5 \nL 73.1875 35.5 \nL 73.1875 27.203125 \nL 10.59375 27.203125 \nz\n\" id=\"DejaVuSans-8722\"/>\n       <path d=\"M 37.796875 64.3125 \nL 12.890625 25.390625 \nL 37.796875 25.390625 \nz\nM 35.203125 72.90625 \nL 47.609375 72.90625 \nL 47.609375 25.390625 \nL 58.015625 25.390625 \nL 58.015625 17.1875 \nL 47.609375 17.1875 \nL 47.609375 0 \nL 37.796875 0 \nL 37.796875 17.1875 \nL 4.890625 17.1875 \nL 4.890625 26.703125 \nz\n\" id=\"DejaVuSans-52\"/>\n      </defs>\n      <g transform=\"translate(68.80401 242.738437)scale(0.1 -0.1)\">\n       <use xlink:href=\"#DejaVuSans-8722\"/>\n       <use x=\"83.789062\" xlink:href=\"#DejaVuSans-52\"/>\n      </g>\n     </g>\n    </g>\n    <g id=\"xtick_2\">\n     <g id=\"line2d_2\">\n      <g>\n       <use style=\"stroke:#000000;stroke-width:0.8;\" x=\"137.662707\" xlink:href=\"#m9c44d8ccd9\" y=\"228.14\"/>\n      </g>\n     </g>\n     <g id=\"text_2\">\n      <!-- −2 -->\n      <defs>\n       <path d=\"M 19.1875 8.296875 \nL 53.609375 8.296875 \nL 53.609375 0 \nL 7.328125 0 \nL 7.328125 8.296875 \nQ 12.9375 14.109375 22.625 23.890625 \nQ 32.328125 33.6875 34.8125 36.53125 \nQ 39.546875 41.84375 41.421875 45.53125 \nQ 43.3125 49.21875 43.3125 52.78125 \nQ 43.3125 58.59375 39.234375 62.25 \nQ 35.15625 65.921875 28.609375 65.921875 \nQ 23.96875 65.921875 18.8125 64.3125 \nQ 13.671875 62.703125 7.8125 59.421875 \nL 7.8125 69.390625 \nQ 13.765625 71.78125 18.9375 73 \nQ 24.125 74.21875 28.421875 74.21875 \nQ 39.75 74.21875 46.484375 68.546875 \nQ 53.21875 62.890625 53.21875 53.421875 \nQ 53.21875 48.921875 51.53125 44.890625 \nQ 49.859375 40.875 45.40625 35.40625 \nQ 44.1875 33.984375 37.640625 27.21875 \nQ 31.109375 20.453125 19.1875 8.296875 \nz\n\" id=\"DejaVuSans-50\"/>\n      </defs>\n      <g transform=\"translate(130.291613 242.738437)scale(0.1 -0.1)\">\n       <use xlink:href=\"#DejaVuSans-8722\"/>\n       <use x=\"83.789062\" xlink:href=\"#DejaVuSans-50\"/>\n      </g>\n     </g>\n    </g>\n    <g id=\"xtick_3\">\n     <g id=\"line2d_3\">\n      <g>\n       <use style=\"stroke:#000000;stroke-width:0.8;\" x=\"199.15031\" xlink:href=\"#m9c44d8ccd9\" y=\"228.14\"/>\n      </g>\n     </g>\n     <g id=\"text_3\">\n      <!-- 0 -->\n      <defs>\n       <path d=\"M 31.78125 66.40625 \nQ 24.171875 66.40625 20.328125 58.90625 \nQ 16.5 51.421875 16.5 36.375 \nQ 16.5 21.390625 20.328125 13.890625 \nQ 24.171875 6.390625 31.78125 6.390625 \nQ 39.453125 6.390625 43.28125 13.890625 \nQ 47.125 21.390625 47.125 36.375 \nQ 47.125 51.421875 43.28125 58.90625 \nQ 39.453125 66.40625 31.78125 66.40625 \nz\nM 31.78125 74.21875 \nQ 44.046875 74.21875 50.515625 64.515625 \nQ 56.984375 54.828125 56.984375 36.375 \nQ 56.984375 17.96875 50.515625 8.265625 \nQ 44.046875 -1.421875 31.78125 -1.421875 \nQ 19.53125 -1.421875 13.0625 8.265625 \nQ 6.59375 17.96875 6.59375 36.375 \nQ 6.59375 54.828125 13.0625 64.515625 \nQ 19.53125 74.21875 31.78125 74.21875 \nz\n\" id=\"DejaVuSans-48\"/>\n      </defs>\n      <g transform=\"translate(195.96906 242.738437)scale(0.1 -0.1)\">\n       <use xlink:href=\"#DejaVuSans-48\"/>\n      </g>\n     </g>\n    </g>\n    <g id=\"xtick_4\">\n     <g id=\"line2d_4\">\n      <g>\n       <use style=\"stroke:#000000;stroke-width:0.8;\" x=\"260.637913\" xlink:href=\"#m9c44d8ccd9\" y=\"228.14\"/>\n      </g>\n     </g>\n     <g id=\"text_4\">\n      <!-- 2 -->\n      <g transform=\"translate(257.456663 242.738437)scale(0.1 -0.1)\">\n       <use xlink:href=\"#DejaVuSans-50\"/>\n      </g>\n     </g>\n    </g>\n    <g id=\"xtick_5\">\n     <g id=\"line2d_5\">\n      <g>\n       <use style=\"stroke:#000000;stroke-width:0.8;\" x=\"322.125517\" xlink:href=\"#m9c44d8ccd9\" y=\"228.14\"/>\n      </g>\n     </g>\n     <g id=\"text_5\">\n      <!-- 4 -->\n      <g transform=\"translate(318.944267 242.738437)scale(0.1 -0.1)\">\n       <use xlink:href=\"#DejaVuSans-52\"/>\n      </g>\n     </g>\n    </g>\n   </g>\n   <g id=\"matplotlib.axis_2\">\n    <g id=\"ytick_1\">\n     <g id=\"line2d_6\">\n      <defs>\n       <path d=\"M 0 0 \nL -3.5 0 \n\" id=\"mae4d375ccf\" style=\"stroke:#000000;stroke-width:0.8;\"/>\n      </defs>\n      <g>\n       <use style=\"stroke:#000000;stroke-width:0.8;\" x=\"33.2875\" xlink:href=\"#mae4d375ccf\" y=\"207.69012\"/>\n      </g>\n     </g>\n     <g id=\"text_6\">\n      <!-- 0 -->\n      <g transform=\"translate(19.925 211.489339)scale(0.1 -0.1)\">\n       <use xlink:href=\"#DejaVuSans-48\"/>\n      </g>\n     </g>\n    </g>\n    <g id=\"ytick_2\">\n     <g id=\"line2d_7\">\n      <g>\n       <use style=\"stroke:#000000;stroke-width:0.8;\" x=\"33.2875\" xlink:href=\"#mae4d375ccf\" y=\"181.745141\"/>\n      </g>\n     </g>\n     <g id=\"text_7\">\n      <!-- 20 -->\n      <g transform=\"translate(13.5625 185.54436)scale(0.1 -0.1)\">\n       <use xlink:href=\"#DejaVuSans-50\"/>\n       <use x=\"63.623047\" xlink:href=\"#DejaVuSans-48\"/>\n      </g>\n     </g>\n    </g>\n    <g id=\"ytick_3\">\n     <g id=\"line2d_8\">\n      <g>\n       <use style=\"stroke:#000000;stroke-width:0.8;\" x=\"33.2875\" xlink:href=\"#mae4d375ccf\" y=\"155.800162\"/>\n      </g>\n     </g>\n     <g id=\"text_8\">\n      <!-- 40 -->\n      <g transform=\"translate(13.5625 159.599381)scale(0.1 -0.1)\">\n       <use xlink:href=\"#DejaVuSans-52\"/>\n       <use x=\"63.623047\" xlink:href=\"#DejaVuSans-48\"/>\n      </g>\n     </g>\n    </g>\n    <g id=\"ytick_4\">\n     <g id=\"line2d_9\">\n      <g>\n       <use style=\"stroke:#000000;stroke-width:0.8;\" x=\"33.2875\" xlink:href=\"#mae4d375ccf\" y=\"129.855183\"/>\n      </g>\n     </g>\n     <g id=\"text_9\">\n      <!-- 60 -->\n      <defs>\n       <path d=\"M 33.015625 40.375 \nQ 26.375 40.375 22.484375 35.828125 \nQ 18.609375 31.296875 18.609375 23.390625 \nQ 18.609375 15.53125 22.484375 10.953125 \nQ 26.375 6.390625 33.015625 6.390625 \nQ 39.65625 6.390625 43.53125 10.953125 \nQ 47.40625 15.53125 47.40625 23.390625 \nQ 47.40625 31.296875 43.53125 35.828125 \nQ 39.65625 40.375 33.015625 40.375 \nz\nM 52.59375 71.296875 \nL 52.59375 62.3125 \nQ 48.875 64.0625 45.09375 64.984375 \nQ 41.3125 65.921875 37.59375 65.921875 \nQ 27.828125 65.921875 22.671875 59.328125 \nQ 17.53125 52.734375 16.796875 39.40625 \nQ 19.671875 43.65625 24.015625 45.921875 \nQ 28.375 48.1875 33.59375 48.1875 \nQ 44.578125 48.1875 50.953125 41.515625 \nQ 57.328125 34.859375 57.328125 23.390625 \nQ 57.328125 12.15625 50.6875 5.359375 \nQ 44.046875 -1.421875 33.015625 -1.421875 \nQ 20.359375 -1.421875 13.671875 8.265625 \nQ 6.984375 17.96875 6.984375 36.375 \nQ 6.984375 53.65625 15.1875 63.9375 \nQ 23.390625 74.21875 37.203125 74.21875 \nQ 40.921875 74.21875 44.703125 73.484375 \nQ 48.484375 72.75 52.59375 71.296875 \nz\n\" id=\"DejaVuSans-54\"/>\n      </defs>\n      <g transform=\"translate(13.5625 133.654402)scale(0.1 -0.1)\">\n       <use xlink:href=\"#DejaVuSans-54\"/>\n       <use x=\"63.623047\" xlink:href=\"#DejaVuSans-48\"/>\n      </g>\n     </g>\n    </g>\n    <g id=\"ytick_5\">\n     <g id=\"line2d_10\">\n      <g>\n       <use style=\"stroke:#000000;stroke-width:0.8;\" x=\"33.2875\" xlink:href=\"#mae4d375ccf\" y=\"103.910204\"/>\n      </g>\n     </g>\n     <g id=\"text_10\">\n      <!-- 80 -->\n      <defs>\n       <path d=\"M 31.78125 34.625 \nQ 24.75 34.625 20.71875 30.859375 \nQ 16.703125 27.09375 16.703125 20.515625 \nQ 16.703125 13.921875 20.71875 10.15625 \nQ 24.75 6.390625 31.78125 6.390625 \nQ 38.8125 6.390625 42.859375 10.171875 \nQ 46.921875 13.96875 46.921875 20.515625 \nQ 46.921875 27.09375 42.890625 30.859375 \nQ 38.875 34.625 31.78125 34.625 \nz\nM 21.921875 38.8125 \nQ 15.578125 40.375 12.03125 44.71875 \nQ 8.5 49.078125 8.5 55.328125 \nQ 8.5 64.0625 14.71875 69.140625 \nQ 20.953125 74.21875 31.78125 74.21875 \nQ 42.671875 74.21875 48.875 69.140625 \nQ 55.078125 64.0625 55.078125 55.328125 \nQ 55.078125 49.078125 51.53125 44.71875 \nQ 48 40.375 41.703125 38.8125 \nQ 48.828125 37.15625 52.796875 32.3125 \nQ 56.78125 27.484375 56.78125 20.515625 \nQ 56.78125 9.90625 50.3125 4.234375 \nQ 43.84375 -1.421875 31.78125 -1.421875 \nQ 19.734375 -1.421875 13.25 4.234375 \nQ 6.78125 9.90625 6.78125 20.515625 \nQ 6.78125 27.484375 10.78125 32.3125 \nQ 14.796875 37.15625 21.921875 38.8125 \nz\nM 18.3125 54.390625 \nQ 18.3125 48.734375 21.84375 45.5625 \nQ 25.390625 42.390625 31.78125 42.390625 \nQ 38.140625 42.390625 41.71875 45.5625 \nQ 45.3125 48.734375 45.3125 54.390625 \nQ 45.3125 60.0625 41.71875 63.234375 \nQ 38.140625 66.40625 31.78125 66.40625 \nQ 25.390625 66.40625 21.84375 63.234375 \nQ 18.3125 60.0625 18.3125 54.390625 \nz\n\" id=\"DejaVuSans-56\"/>\n      </defs>\n      <g transform=\"translate(13.5625 107.709423)scale(0.1 -0.1)\">\n       <use xlink:href=\"#DejaVuSans-56\"/>\n       <use x=\"63.623047\" xlink:href=\"#DejaVuSans-48\"/>\n      </g>\n     </g>\n    </g>\n    <g id=\"ytick_6\">\n     <g id=\"line2d_11\">\n      <g>\n       <use style=\"stroke:#000000;stroke-width:0.8;\" x=\"33.2875\" xlink:href=\"#mae4d375ccf\" y=\"77.965225\"/>\n      </g>\n     </g>\n     <g id=\"text_11\">\n      <!-- 100 -->\n      <defs>\n       <path d=\"M 12.40625 8.296875 \nL 28.515625 8.296875 \nL 28.515625 63.921875 \nL 10.984375 60.40625 \nL 10.984375 69.390625 \nL 28.421875 72.90625 \nL 38.28125 72.90625 \nL 38.28125 8.296875 \nL 54.390625 8.296875 \nL 54.390625 0 \nL 12.40625 0 \nz\n\" id=\"DejaVuSans-49\"/>\n      </defs>\n      <g transform=\"translate(7.2 81.764444)scale(0.1 -0.1)\">\n       <use xlink:href=\"#DejaVuSans-49\"/>\n       <use x=\"63.623047\" xlink:href=\"#DejaVuSans-48\"/>\n       <use x=\"127.246094\" xlink:href=\"#DejaVuSans-48\"/>\n      </g>\n     </g>\n    </g>\n    <g id=\"ytick_7\">\n     <g id=\"line2d_12\">\n      <g>\n       <use style=\"stroke:#000000;stroke-width:0.8;\" x=\"33.2875\" xlink:href=\"#mae4d375ccf\" y=\"52.020246\"/>\n      </g>\n     </g>\n     <g id=\"text_12\">\n      <!-- 120 -->\n      <g transform=\"translate(7.2 55.819465)scale(0.1 -0.1)\">\n       <use xlink:href=\"#DejaVuSans-49\"/>\n       <use x=\"63.623047\" xlink:href=\"#DejaVuSans-50\"/>\n       <use x=\"127.246094\" xlink:href=\"#DejaVuSans-48\"/>\n      </g>\n     </g>\n    </g>\n    <g id=\"ytick_8\">\n     <g id=\"line2d_13\">\n      <g>\n       <use style=\"stroke:#000000;stroke-width:0.8;\" x=\"33.2875\" xlink:href=\"#mae4d375ccf\" y=\"26.075267\"/>\n      </g>\n     </g>\n     <g id=\"text_13\">\n      <!-- 140 -->\n      <g transform=\"translate(7.2 29.874486)scale(0.1 -0.1)\">\n       <use xlink:href=\"#DejaVuSans-49\"/>\n       <use x=\"63.623047\" xlink:href=\"#DejaVuSans-52\"/>\n       <use x=\"127.246094\" xlink:href=\"#DejaVuSans-48\"/>\n      </g>\n     </g>\n    </g>\n   </g>\n   <g id=\"line2d_14\">\n    <path clip-path=\"url(#pf2ca443763)\" d=\"M 48.505682 25.009655 \nL 51.580062 30.223156 \nL 54.654442 38.832621 \nL 57.728822 48.000669 \nL 60.803202 59.290912 \nL 63.877583 72.001422 \nL 66.951963 83.120984 \nL 70.026343 90.41839 \nL 73.100723 97.762839 \nL 76.175103 101.701943 \nL 79.249483 104.350783 \nL 82.323864 105.334725 \nL 85.398244 106.090448 \nL 88.472624 106.774272 \nL 91.547004 108.835667 \nL 94.621384 112.598034 \nL 97.695764 119.012783 \nL 100.770145 128.981102 \nL 103.844525 138.080293 \nL 106.918905 148.102584 \nL 109.993285 155.115349 \nL 113.067665 162.193409 \nL 116.142045 165.312596 \nL 119.216426 167.500615 \nL 122.290806 167.29014 \nL 125.365186 166.245626 \nL 128.439566 165.388635 \nL 131.513946 162.882065 \nL 134.588326 164.768026 \nL 137.662707 167.138727 \nL 140.737087 173.796905 \nL 143.811467 179.675312 \nL 146.885847 187.311913 \nL 149.960227 195.129044 \nL 153.034607 199.45008 \nL 156.108988 205.366531 \nL 159.183368 205.368643 \nL 162.257748 204.893776 \nL 165.332128 202.888523 \nL 168.406508 199.941431 \nL 171.480888 195.087311 \nL 174.555269 194.705748 \nL 177.629649 192.859424 \nL 180.704029 194.818333 \nL 183.778409 198.024125 \nL 186.852789 203.668737 \nL 189.927169 209.912397 \nL 193.00155 214.116889 \nL 196.07593 218.256364 \nL 199.15031 217.958757 \nL 202.22469 217.713355 \nL 205.29907 214.719149 \nL 208.37345 209.019421 \nL 211.447831 203.661395 \nL 214.522211 199.307332 \nL 217.596591 194.286791 \nL 220.670971 191.893481 \nL 223.745351 193.116025 \nL 226.819731 194.76815 \nL 229.894112 199.363455 \nL 232.968492 203.50014 \nL 236.042872 204.61814 \nL 239.117252 206.540651 \nL 242.191632 204.085972 \nL 245.266012 200.804043 \nL 248.340393 194.721937 \nL 251.414773 187.207531 \nL 254.489153 180.526504 \nL 257.563533 172.745552 \nL 260.637913 166.539569 \nL 263.712293 164.84112 \nL 266.786674 164.028257 \nL 269.861054 164.867066 \nL 272.935434 166.697515 \nL 276.009814 169.233634 \nL 279.084194 167.691665 \nL 282.158574 165.636877 \nL 285.232955 161.982072 \nL 288.307335 155.275286 \nL 291.381715 148.350994 \nL 294.456095 138.788404 \nL 297.530475 128.126966 \nL 300.604855 121.294783 \nL 303.679236 112.558804 \nL 306.753616 108.367444 \nL 309.827996 106.344196 \nL 312.902376 106.100075 \nL 315.976756 104.804171 \nL 319.051136 104.197428 \nL 322.125517 102.042032 \nL 325.199897 97.817062 \nL 328.274277 91.122621 \nL 331.348657 81.478745 \nL 334.423037 71.428531 \nL 337.497417 59.240163 \nL 340.571798 48.08041 \nL 343.646178 37.794031 \nL 346.720558 30.132686 \nL 349.794938 23.39532 \nL 352.869318 20.583636 \n\" style=\"fill:none;stroke:#1f77b4;stroke-linecap:square;stroke-width:1.5;\"/>\n   </g>\n   <g id=\"patch_3\">\n    <path d=\"M 33.2875 228.14 \nL 33.2875 10.7 \n\" style=\"fill:none;stroke:#000000;stroke-linecap:square;stroke-linejoin:miter;stroke-width:0.8;\"/>\n   </g>\n   <g id=\"patch_4\">\n    <path d=\"M 368.0875 228.14 \nL 368.0875 10.7 \n\" style=\"fill:none;stroke:#000000;stroke-linecap:square;stroke-linejoin:miter;stroke-width:0.8;\"/>\n   </g>\n   <g id=\"patch_5\">\n    <path d=\"M 33.2875 228.14 \nL 368.0875 228.14 \n\" style=\"fill:none;stroke:#000000;stroke-linecap:square;stroke-linejoin:miter;stroke-width:0.8;\"/>\n   </g>\n   <g id=\"patch_6\">\n    <path d=\"M 33.2875 10.7 \nL 368.0875 10.7 \n\" style=\"fill:none;stroke:#000000;stroke-linecap:square;stroke-linejoin:miter;stroke-width:0.8;\"/>\n   </g>\n  </g>\n </g>\n <defs>\n  <clipPath id=\"pf2ca443763\">\n   <rect height=\"217.44\" width=\"334.8\" x=\"33.2875\" y=\"10.7\"/>\n  </clipPath>\n </defs>\n</svg>\n"
     },
     "metadata": {
      "needs_background": "light"
     }
    }
   ],
   "source": [
    "plt.plot(x,o)\n",
    "plt.show()"
   ]
  },
  {
   "cell_type": "code",
   "execution_count": 5,
   "metadata": {},
   "outputs": [],
   "source": [
    "def evaluate_final(abc,x,i):\n",
    "    return (abc[0]*((x[i]**2)-(abc[1]*np.cos(abc[2]*np.pi*x[i]))))\n",
    "\n",
    "\n",
    "def print_final_result(v):\n",
    "    N = 100\n",
    "    abc_best = v\n",
    "    o_dash_final = np.zeros(N)\n",
    "\n",
    "    for i in range(N):\n",
    "        o_dash_final[i] = evaluate_final(abc_best,x,i)\n",
    "    mse_final = np.mean((o - o_dash_final)**2)\n",
    "\n",
    "    plt.plot(x, o_dash_final)\n",
    "    plt.show()"
   ]
  },
  {
   "cell_type": "code",
   "execution_count": 6,
   "metadata": {
    "tags": []
   },
   "outputs": [
    {
     "output_type": "stream",
     "name": "stdout",
     "text": "0.22841791224717997 36\n"
    }
   ],
   "source": [
    "#(MI + LAMBDA)\n",
    "\n",
    "abc = np.random.uniform(-10, 10, size=(100,3))\n",
    "sigma = np.random.uniform(0,10, size=(100,3))\n",
    "\n",
    "tau1 = 1/np.sqrt(2*6)\n",
    "tau2 = 1/np.sqrt(2*np.sqrt(6))\n",
    "\n",
    "v = np.stack([abc,sigma])\n",
    "v.shape\n",
    "\n",
    "def evaluate(abc,x,i):\n",
    "    return (abc[0]*((x[i]**2)-(abc[1]*np.cos(abc[2]*np.pi*x[i]))))\n",
    "\n",
    "def fitness_ABC(abc, N):\n",
    "    o_dash = np.zeros(N)\n",
    "    for i in range(100):\n",
    "        o_dash[i] = evaluate(abc,x,i)\n",
    "    mes = np.mean((o - o_dash)**2)\n",
    "    return mes\n",
    "\n",
    "def evaluate_pop(pop_v):\n",
    "    fit = np.zeros(len(pop_v[1]))\n",
    "    for i in range(len(pop_v[1])):\n",
    "        fit[i] = fitness_ABC(pop_v[0,i,:], 100)\n",
    "    return fit\n",
    "\n",
    "iteration = 0\n",
    "\n",
    "while True:\n",
    "\n",
    "    v_copy = copy(v)\n",
    "    parents_fit = evaluate_pop(v)\n",
    "\n",
    "    idx = np.random.randint(100, size=500)\n",
    "    R_lambda = v[:,idx,:]\n",
    "    \n",
    "    Off_lambda = np.zeros((2,len(R_lambda[1]),3))\n",
    "\n",
    "    for i in range(len(R_lambda[1])):\n",
    "\n",
    "        a_off = R_lambda[0,i,0] + R_lambda[1,i,0]*np.random.normal()\n",
    "        Off_lambda[0,i,0] = a_off\n",
    "        b_off = R_lambda[0,i,1] + R_lambda[1,i,1]*np.random.normal()\n",
    "        Off_lambda[0,i,1] = b_off\n",
    "        c_off = R_lambda[0,i,2] + R_lambda[1,i,2]*np.random.normal()\n",
    "        Off_lambda[0,i,2] = c_off\n",
    "\n",
    "        r_sigm1 = tau1 * np.random.normal()\n",
    "        r_sigm2 = tau2 * np.random.normal(size=3)\n",
    "\n",
    "        sigma_a_off = R_lambda[1,i,0] * np.exp(r_sigm1) * np.exp(r_sigm2[0])\n",
    "        Off_lambda[1,i,0] = sigma_a_off\n",
    "        sigma_b_off = R_lambda[1,i,1] * np.exp(r_sigm1) * np.exp(r_sigm2[1])\n",
    "        Off_lambda[1,i,1] = sigma_b_off\n",
    "        sigma_c_off = R_lambda[1,i,2] * np.exp(r_sigm1) * np.exp(r_sigm2[2])\n",
    "        Off_lambda[1,i,2] = sigma_c_off\n",
    "\n",
    "    fit_lambda = evaluate_pop(Off_lambda)\n",
    "    mi_p_lambd = np.concatenate((v_copy, Off_lambda), axis=1)\n",
    "    mi_p_lambd_mse = np.concatenate((parents_fit, fit_lambda), axis=0)\n",
    "\n",
    "    choosen_indx = mi_p_lambd_mse.argsort()[:100]\n",
    "    v = mi_p_lambd[:,choosen_indx,:]\n",
    "\n",
    "    iteration += 1\n",
    "\n",
    "    if abs((min(parents_fit) - min(fit_lambda))) < 1e-6:\n",
    "        print(min(fit_lambda),iteration)\n",
    "        break"
   ]
  },
  {
   "cell_type": "code",
   "execution_count": 7,
   "metadata": {
    "tags": []
   },
   "outputs": [
    {
     "output_type": "stream",
     "name": "stdout",
     "text": "0.22841776030483718 38\n"
    }
   ],
   "source": [
    "#(MI,LAMBDA)\n",
    "\n",
    "abc = np.random.uniform(-10, 10, size=(100,3))\n",
    "sigma = np.random.uniform(0,10, size=(100,3))\n",
    "\n",
    "tau1 = 1/np.sqrt(2*6)\n",
    "tau2 = 1/np.sqrt(2*np.sqrt(6))\n",
    "\n",
    "v = np.stack([abc,sigma])\n",
    "v.shape\n",
    "\n",
    "def evaluate(abc,x,i):\n",
    "    return (abc[0]*((x[i]**2)-(abc[1]*np.cos(abc[2]*np.pi*x[i]))))\n",
    "\n",
    "def fitness_ABC(abc, N):\n",
    "    o_dash = np.zeros(N)\n",
    "    for i in range(100):\n",
    "        o_dash[i] = evaluate(abc,x,i)\n",
    "    mes = np.mean((o - o_dash)**2)\n",
    "    return mes\n",
    "\n",
    "def evaluate_pop(pop_v):\n",
    "    fit = np.zeros(len(pop_v[1]))\n",
    "    for i in range(len(pop_v[1])):\n",
    "        fit[i] = fitness_ABC(pop_v[0,i,:], 100)\n",
    "    return fit\n",
    "\n",
    "iteration = 0\n",
    "\n",
    "while True:\n",
    "    \n",
    "    v_copy = copy(v)\n",
    "    parents_fit = evaluate_pop(v)\n",
    "\n",
    "    idx = np.random.randint(100, size=500)\n",
    "    R_lambda = v[:,idx,:]\n",
    "    \n",
    "    Off_lambda = np.zeros((2,len(R_lambda[1]),3))\n",
    "\n",
    "    for i in range(len(R_lambda[1])):\n",
    "\n",
    "        a_off = R_lambda[0,i,0] + R_lambda[1,i,0]*np.random.normal()\n",
    "        Off_lambda[0,i,0] = a_off\n",
    "        b_off = R_lambda[0,i,1] + R_lambda[1,i,1]*np.random.normal()\n",
    "        Off_lambda[0,i,1] = b_off\n",
    "        c_off = R_lambda[0,i,2] + R_lambda[1,i,2]*np.random.normal()\n",
    "        Off_lambda[0,i,2] = c_off\n",
    "\n",
    "        r_sigm1 = tau1 * np.random.normal()\n",
    "        r_sigm2 = tau2 * np.random.normal(size=3)\n",
    "\n",
    "        sigma_a_off = R_lambda[1,i,0] * np.exp(r_sigm1) * np.exp(r_sigm2[0])\n",
    "        Off_lambda[1,i,0] = sigma_a_off\n",
    "        sigma_b_off = R_lambda[1,i,1] * np.exp(r_sigm1) * np.exp(r_sigm2[1])\n",
    "        Off_lambda[1,i,1] = sigma_b_off\n",
    "        sigma_c_off = R_lambda[1,i,2] * np.exp(r_sigm1) * np.exp(r_sigm2[2])\n",
    "        Off_lambda[1,i,2] = sigma_c_off\n",
    "\n",
    "    fit_lambda = evaluate_pop(Off_lambda)\n",
    "    choosen_indx = fit_lambda.argsort()[:100]\n",
    "    v = Off_lambda[:,choosen_indx,:]\n",
    "    \n",
    "    iteration += 1\n",
    "\n",
    "    if abs((min(parents_fit) - min(fit_lambda))) < 1e-6:\n",
    "        print(min(fit_lambda),iteration)\n",
    "        break"
   ]
  }
 ],
 "metadata": {
  "language_info": {
   "name": "python",
   "codemirror_mode": {
    "name": "ipython",
    "version": 3
   },
   "version": "3.5.6-final"
  },
  "orig_nbformat": 2,
  "file_extension": ".py",
  "mimetype": "text/x-python",
  "name": "python",
  "npconvert_exporter": "python",
  "pygments_lexer": "ipython3",
  "version": 3,
  "kernelspec": {
   "name": "python3",
   "display_name": "Python 3"
  }
 },
 "nbformat": 4,
 "nbformat_minor": 2
}